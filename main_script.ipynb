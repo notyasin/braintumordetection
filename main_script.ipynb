{
 "cells": [
  {
   "cell_type": "code",
   "execution_count": 1,
   "metadata": {},
   "outputs": [
    {
     "data": {
      "text/html": [
       "        <script type=\"text/javascript\">\n",
       "        window.PlotlyConfig = {MathJaxConfig: 'local'};\n",
       "        if (window.MathJax && window.MathJax.Hub && window.MathJax.Hub.Config) {window.MathJax.Hub.Config({SVG: {font: \"STIX-Web\"}});}\n",
       "        if (typeof require !== 'undefined') {\n",
       "        require.undef(\"plotly\");\n",
       "        requirejs.config({\n",
       "            paths: {\n",
       "                'plotly': ['https://cdn.plot.ly/plotly-2.27.0.min']\n",
       "            }\n",
       "        });\n",
       "        require(['plotly'], function(Plotly) {\n",
       "            window._Plotly = Plotly;\n",
       "        });\n",
       "        }\n",
       "        </script>\n",
       "        "
      ]
     },
     "metadata": {},
     "output_type": "display_data"
    }
   ],
   "source": [
    "import numpy as np\n",
    "from tqdm import tqdm\n",
    "# what is tqdm?\n",
    "import cv2\n",
    "import os \n",
    "import shutil\n",
    "import imutils\n",
    "import matplotlib.pyplot as plt\n",
    "from sklearn.preprocessing import LabelBinarizer\n",
    "from sklearn.model_selection import train_test_split\n",
    "from sklearn.metrics import accuracy_score, confusion_matrix\n",
    "\n",
    "import plotly.graph_objs as ob\n",
    "from plotly.offline import init_notebook_mode, iplot\n",
    "from plotly import tools\n",
    "\n",
    "from tensorflow import keras\n",
    "from tensorflow.keras.preprocessing.image import ImageDataGenerator\n",
    "from tensorflow.keras.applications.vgg16 import VGG16, preprocess_input\n",
    "from tensorflow.keras import layers\n",
    "from tensorflow.keras.models import Model, Sequential\n",
    "from tensorflow.keras.optimizers import Adam, RMSprop\n",
    "from tensorflow.keras.callbacks import EarlyStopping\n",
    "\n",
    "init_notebook_mode(connected=True)\n",
    "RANDOM_SEED = 123"
   ]
  },
  {
   "cell_type": "code",
   "execution_count": null,
   "metadata": {},
   "outputs": [],
   "source": [
    "# !where python"
   ]
  },
  {
   "cell_type": "code",
   "execution_count": null,
   "metadata": {},
   "outputs": [],
   "source": [
    "# img_path = \"C:/Users/racco/Documents/python_project/\" \\\n",
    "# \"braintumordetection/archive1/brain_tumor_dataset/\"\n",
    "\n",
    "# for kelas in os.listdir(img_path):\n",
    "#     if not kelas.startswith(\".\"):\n",
    "#         img_num = len(os.listdir(img_path + kelas))\n",
    "#         print(img_num)\n",
    "#         print(os.listdir(img_path + kelas))\n",
    "#         # img_num -> number of images are there \n",
    "#         for (n, file_name) in enumerate(os.listdir(img_path + kelas)):\n",
    "#             img = img_path + kelas + \"/\" + file_name\n",
    "#             if n < 5:\n",
    "#                 shutil.copy(img, \"TEST/\" + kelas.upper() + \"/\" + file_name)\n",
    "#             elif n < 0.8 * img_num:\n",
    "#                 shutil.copy(img, \"TRAIN/\" + kelas.upper() + \"/\" + file_name)\n",
    "#             else:\n",
    "#                 shutil.copy(img, \"VAL/\" + kelas.upper() + \"/\" + file_name)"
   ]
  },
  {
   "cell_type": "code",
   "execution_count": 2,
   "metadata": {},
   "outputs": [],
   "source": [
    "def load_data(dir_path, img_size=(100,100)):\n",
    "    # purpose-> Load resized images as np.arrays to workspace\n",
    "    X = []\n",
    "    y = []\n",
    "    i = 0\n",
    "    labels = dict()\n",
    "    for path in tqdm(sorted(os.listdir(dir_path))):\n",
    "        if not path.startswith(\".\"):\n",
    "            labels[i] = path\n",
    "            for file in os.listdir(dir_path + path):\n",
    "                if not file.startswith(\".\"):\n",
    "                    img = cv2.imread(dir_path + path + \"/\" + file)\n",
    "                    # img = cv2.resize(img, img_size)\n",
    "                    X.append(img)\n",
    "                    y.append(i)\n",
    "            i += 1\n",
    "    X = np.array(X)\n",
    "    y = np.array(y)\n",
    "    print(f\"{len(X)} images loaded from {dir_path}\")\n",
    "    return X, y, labels"
   ]
  },
  {
   "cell_type": "code",
   "execution_count": 3,
   "metadata": {},
   "outputs": [
    {
     "name": "stderr",
     "output_type": "stream",
     "text": [
      "100%|██████████| 2/2 [00:00<00:00,  9.62it/s]\n"
     ]
    },
    {
     "name": "stdout",
     "output_type": "stream",
     "text": [
      "193 images loaded from C:/Users/racco/Documents/python_project/braintumordetection/TRAIN/\n"
     ]
    },
    {
     "name": "stderr",
     "output_type": "stream",
     "text": [
      "100%|██████████| 2/2 [00:00<00:00, 265.82it/s]\n"
     ]
    },
    {
     "name": "stdout",
     "output_type": "stream",
     "text": [
      "10 images loaded from C:/Users/racco/Documents/python_project/braintumordetection/TEST/\n"
     ]
    },
    {
     "name": "stderr",
     "output_type": "stream",
     "text": [
      "100%|██████████| 2/2 [00:00<00:00, 29.17it/s]"
     ]
    },
    {
     "name": "stdout",
     "output_type": "stream",
     "text": [
      "50 images loaded from C:/Users/racco/Documents/python_project/braintumordetection/VAL/\n"
     ]
    },
    {
     "name": "stderr",
     "output_type": "stream",
     "text": [
      "\n"
     ]
    }
   ],
   "source": [
    "train_dir = \"C:/Users/racco/Documents/python_project/braintumordetection/TRAIN/\"\n",
    "test_dir = \"C:/Users/racco/Documents/python_project/braintumordetection/TEST/\"\n",
    "val_dir = \"C:/Users/racco/Documents/python_project/braintumordetection/VAL/\"\n",
    "img_size = (224, 224)\n",
    "\n",
    "# use predefined function to load the image data into workspace\n",
    "X_train, y_train, labels_train = load_data(train_dir, img_size)\n",
    "X_test, y_test, _ = load_data(test_dir, img_size)\n",
    "X_val, y_val, _ = load_data(val_dir, img_size)\n",
    "\n",
    "# what is the purpose of \"load_data\" function?"
   ]
  },
  {
   "cell_type": "code",
   "execution_count": null,
   "metadata": {},
   "outputs": [],
   "source": []
  }
 ],
 "metadata": {
  "kernelspec": {
   "display_name": "env",
   "language": "python",
   "name": "python3"
  },
  "language_info": {
   "codemirror_mode": {
    "name": "ipython",
    "version": 3
   },
   "file_extension": ".py",
   "mimetype": "text/x-python",
   "name": "python",
   "nbconvert_exporter": "python",
   "pygments_lexer": "ipython3",
   "version": "3.7.0"
  }
 },
 "nbformat": 4,
 "nbformat_minor": 2
}
