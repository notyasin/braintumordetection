{
 "cells": [
  {
   "cell_type": "code",
   "execution_count": 23,
   "metadata": {},
   "outputs": [
    {
     "data": {
      "text/html": [
       "        <script type=\"text/javascript\">\n",
       "        window.PlotlyConfig = {MathJaxConfig: 'local'};\n",
       "        if (window.MathJax && window.MathJax.Hub && window.MathJax.Hub.Config) {window.MathJax.Hub.Config({SVG: {font: \"STIX-Web\"}});}\n",
       "        if (typeof require !== 'undefined') {\n",
       "        require.undef(\"plotly\");\n",
       "        requirejs.config({\n",
       "            paths: {\n",
       "                'plotly': ['https://cdn.plot.ly/plotly-2.27.0.min']\n",
       "            }\n",
       "        });\n",
       "        require(['plotly'], function(Plotly) {\n",
       "            window._Plotly = Plotly;\n",
       "        });\n",
       "        }\n",
       "        </script>\n",
       "        "
      ]
     },
     "metadata": {},
     "output_type": "display_data"
    }
   ],
   "source": [
    "import numpy as np\n",
    "from tqdm import tqdm\n",
    "# what is tqdm?\n",
    "import cv2\n",
    "import os \n",
    "import shutil\n",
    "import imutils\n",
    "import matplotlib.pyplot as plt\n",
    "from sklearn.preprocessing import LabelBinarizer\n",
    "from sklearn.model_selection import train_test_split\n",
    "from sklearn.metrics import accuracy_score, confusion_matrix\n",
    "\n",
    "import plotly.graph_objs as go\n",
    "from plotly.offline import init_notebook_mode, iplot\n",
    "from plotly import tools\n",
    "\n",
    "from tensorflow import keras\n",
    "from tensorflow.keras.preprocessing.image import ImageDataGenerator\n",
    "from tensorflow.keras.applications.vgg16 import VGG16, preprocess_input\n",
    "from tensorflow.keras import layers\n",
    "from tensorflow.keras.models import Model, Sequential\n",
    "from tensorflow.keras.optimizers import Adam, RMSprop\n",
    "from tensorflow.keras.callbacks import EarlyStopping\n",
    "\n",
    "init_notebook_mode(connected=True)\n",
    "RANDOM_SEED = 123"
   ]
  },
  {
   "cell_type": "code",
   "execution_count": 24,
   "metadata": {},
   "outputs": [],
   "source": [
    "# !where python"
   ]
  },
  {
   "cell_type": "code",
   "execution_count": 25,
   "metadata": {},
   "outputs": [
    {
     "name": "stdout",
     "output_type": "stream",
     "text": [
      "Folder: no - Number of images: 98\n",
      "Folder: yes - Number of images: 155\n"
     ]
    }
   ],
   "source": [
    "img_path = \"C:/Users/racco/Documents/python_project/\" \\\n",
    "\"braintumordetection/archive1/brain_tumor_dataset/\"\n",
    "\n",
    "# for kelas in os.listdir(img_path):\n",
    "#     if not kelas.startswith(\".\"):\n",
    "#         img_num = len(os.listdir(img_path + kelas))\n",
    "#         print(img_num)\n",
    "#         print(os.listdir(img_path + kelas))\n",
    "#         # img_num -> number of images are there \n",
    "#         for (n, file_name) in enumerate(os.listdir(img_path + kelas)):\n",
    "#             img = img_path + kelas + \"/\" + file_name\n",
    "#             if n < 5:\n",
    "#                 shutil.copy(img, \"TEST/\" + kelas.upper() + \"/\" + file_name)\n",
    "#             elif n < 0.8 * img_num:\n",
    "#                 shutil.copy(img, \"TRAIN/\" + kelas.upper() + \"/\" + file_name)\n",
    "#             else:\n",
    "#                 shutil.copy(img, \"VAL/\" + kelas.upper() + \"/\" + file_name)\n",
    "\n",
    "# Iterate over the \"YES\" and \"NO\" folders\n",
    "for kelas in os.listdir(img_path):\n",
    "    if not kelas.startswith(\".\"):  # Skip hidden files/folders\n",
    "        # Count the number of images in the \"YES\" or \"NO\" folder\n",
    "        img_num = len(os.listdir(img_path + kelas))\n",
    "        print(f\"Folder: {kelas} - Number of images: {img_num}\")\n",
    "        \n",
    "        # Iterate over the files in the folder (either YES or NO)\n",
    "        for (n, file_name) in enumerate(os.listdir(img_path + kelas)):\n",
    "            img = img_path + kelas + \"/\" + file_name\n",
    "            \n",
    "            # Copy the first 5 images to the TEST folder\n",
    "            if n < 5:\n",
    "                shutil.copy(img, f\"TEST/{kelas.upper()}/{file_name}\")\n",
    "            # Copy 80% of the images to the TRAIN folder\n",
    "            elif n < 0.8 * img_num:\n",
    "                shutil.copy(img, f\"TRAIN/{kelas.upper()}/{file_name}\")\n",
    "            # Copy the remaining 15% to the VAL folder\n",
    "            else:\n",
    "                shutil.copy(img, f\"VAL/{kelas.upper()}/{file_name}\")\n"
   ]
  },
  {
   "cell_type": "code",
   "execution_count": 26,
   "metadata": {},
   "outputs": [],
   "source": [
    "def load_data(dir_path, img_size=(100,100)):\n",
    "    # purpose-> Load resized images as np.arrays to workspace\n",
    "    X = []\n",
    "    y = []\n",
    "    i = 0\n",
    "    labels = dict()\n",
    "    for path in tqdm(sorted(os.listdir(dir_path))):\n",
    "        if not path.startswith(\".\"):\n",
    "            labels[i] = path\n",
    "            for file in os.listdir(dir_path + path):\n",
    "                if not file.startswith(\".\"):\n",
    "                    img = cv2.imread(dir_path + path + \"/\" + file)\n",
    "                    # img = cv2.resize(img, img_size)\n",
    "                    X.append(img)\n",
    "                    y.append(i)\n",
    "            i += 1\n",
    "    X = np.array(X)\n",
    "    y = np.array(y)\n",
    "    print(f\"{len(X)} images loaded from {dir_path}\")\n",
    "    return X, y, labels"
   ]
  },
  {
   "cell_type": "code",
   "execution_count": 27,
   "metadata": {},
   "outputs": [],
   "source": [
    "def plot_confusion_matrix(cm, classes, normalize=False, title=\"Confusion Matrix\", cmap=plt.cm.Blues):\n",
    "    \"\"\"\n",
    "    This function prints and plots the confusion matrix.\n",
    "    Normalization can be applied by setting `normalize=True`.\n",
    "    \"\"\"\n",
    "    plt.figure(figsize=(6,6))\n",
    "    plt.imshow(cm, interpolation=\"nearest\", cmap=cmap)\n",
    "    plt.title(title)\n",
    "    plt.colorbar()\n",
    "    tick_marks = np.arange(len(classes))\n",
    "    plt.xticks(tick_marks, classes, rotation=90)\n",
    "    plt.yticks(tick_marks, classes)\n",
    "    if normalize:\n",
    "        cm = cm.astype(\"float\") / cm.sum(axis=1)[:, np.newaxis]\n",
    "        print(\"Normalized confusion matrix\") #additional line for information\n",
    "    threshold = cm.max() / 2.0\n",
    "    cm = np.round(cm, 2)\n",
    "    for i, j in intertools.product(range(cm.shape[0]), range(cm.shape[1])):\n",
    "        plt .text(j, i, cm[i, j],\n",
    "                 horizontalalignment=\"center\",\n",
    "                 color=\"white\" if cm[i, j] > threshold else \"black\")\n",
    "    plt.tight_layout()\n",
    "    plt.ylabel(\"True label\")\n",
    "    plt.xlabel(\"Predicted label\")\n",
    "    plt.show()"
   ]
  },
  {
   "cell_type": "markdown",
   "metadata": {},
   "source": [
    "<div style=\"font-size: 13px;\">\n",
    "\n",
    "## **Background about the Confusion Matrix**\n",
    "<p> the function, plot_confusion_matrix, is used to plot \n",
    "the confusion matrix for a classification model.\n",
    "It is used to evaluate the performance of a classification model by\n",
    "showing the true positives, false positives, true negatics and false negatives for each class.\n",
    "</p>\n",
    "\n",
    "### 1. **Function Definition**\n",
    "```python\n",
    "def plot_confusion_matrix(cm, classes,\n",
    "                          normalize=False,\n",
    "                          title='Confusion matrix',\n",
    "                          cmap=plt.cm.Blues):\n",
    "```\n",
    "- **`cm`**: The confusion matrix itself, a 2D NumPy array that shows the number of correct and incorrect predictions for each class.\n",
    "- **`classes`**: A list of class names (e.g., `['Cat', 'Dog']`) used to label the axes of the matrix.\n",
    "- **`normalize`**: A boolean (`True` or `False`) that, when enabled, scales the matrix values into percentages rather than raw counts.\n",
    "- **`title`**: A string title for the plot.\n",
    "- **`cmap`**: A matplotlib color map (default is `plt.cm.Blues`) used to visually scale matrix values with color.\n",
    "\n",
    "---\n",
    "\n",
    "### 2. **Plotting the Base Confusion Matrix**\n",
    "```python\n",
    "plt.figure(figsize=(6, 6))\n",
    "plt.imshow(cm, interpolation='nearest', cmap=cmap)\n",
    "plt.title(title)\n",
    "plt.colorbar()\n",
    "```\n",
    "- **`plt.figure(figsize=(6, 6))`**: Creates a figure with a 6x6 inch size.\n",
    "- **`plt.imshow(cm, interpolation='nearest', cmap=cmap)`**: Displays the confusion matrix as a heatmap. `interpolation='nearest'` keeps cell colors sharp and distinct.\n",
    "- **`plt.title(title)`**: Sets the title of the plot.\n",
    "- **`plt.colorbar()`**: Adds a color scale legend to indicate the intensity values.\n",
    "\n",
    "---\n",
    "\n",
    "### 3. **Setting Axis Labels and Ticks**\n",
    "```python\n",
    "tick_marks = np.arange(len(classes))\n",
    "plt.xticks(tick_marks, classes, rotation=90)\n",
    "plt.yticks(tick_marks, classes)\n",
    "```\n",
    "- **`tick_marks = np.arange(len(classes))`**: Generates tick positions for each class.\n",
    "- **`plt.xticks(..., rotation=90)`**: Sets the class names on the x-axis and rotates them vertically for space.\n",
    "- **`plt.yticks(...)`**: Sets the class names on the y-axis.\n",
    "\n",
    "---\n",
    "\n",
    "### 4. **Normalizing the Matrix (Optional)**\n",
    "```python\n",
    "if normalize:\n",
    "    cm = cm.astype('float') / cm.sum(axis=1)[:, np.newaxis]\n",
    "```\n",
    "- **`if normalize:`**: Checks whether normalization is requested.\n",
    "- **`cm.astype('float')`**: Ensures floating-point division (not integer division).\n",
    "- **`cm.sum(axis=1)[:, np.newaxis]`**: Computes row-wise sums and reshapes to column vector for broadcasting.\n",
    "- **`cm = ...`**: Each row of the confusion matrix is converted to proportions (summing to 1.0).\n",
    "\n",
    "---\n",
    "\n",
    "### 5. **Thresholding and Rounding Values**\n",
    "```python\n",
    "thresh = cm.max() / 2.\n",
    "cm = np.round(cm, 2)\n",
    "```\n",
    "- **`thresh = cm.max() / 2.`**: Defines a midpoint value for deciding text color contrast (white or black).\n",
    "- **`cm = np.round(cm, 2)`**: Rounds all matrix values to 2 decimal places for display.\n",
    "\n",
    "---\n",
    "\n",
    "### 6. **Adding Text Labels Inside Each Cell**\n",
    "```python\n",
    "for i, j in itertools.product(range(cm.shape[0]), range(cm.shape[1])):\n",
    "    plt.text(j, i, cm[i, j],\n",
    "             horizontalalignment=\"center\",\n",
    "             color=\"white\" if cm[i, j] > thresh else \"black\")\n",
    "```\n",
    "- **`itertools.product(...)`**: Loops over all combinations of row and column indices.\n",
    "- **`plt.text(...)`**: Writes each cell's value as text, centered inside its block.\n",
    "- **`color=\"white\" if ...`**: Uses white text on darker backgrounds and black text on lighter backgrounds for readability.\n",
    "\n",
    "---\n",
    "\n",
    "### 7. **Final Layout and Display**\n",
    "```python\n",
    "plt.tight_layout()\n",
    "plt.ylabel('True label')\n",
    "plt.xlabel('Predicted label')\n",
    "plt.show()\n",
    "```\n",
    "- **`plt.tight_layout()`**: Adjusts layout to avoid overlap between elements.\n",
    "- **`plt.ylabel(...)`**: Labels the y-axis as \"True label\".\n",
    "- **`plt.xlabel(...)`**: Labels the x-axis as \"Predicted label\".\n",
    "- **`plt.show()`**: Renders and displays the plot.\n",
    "</div>\n",
    "\n",
    "\n"
   ]
  },
  {
   "cell_type": "code",
   "execution_count": 28,
   "metadata": {},
   "outputs": [
    {
     "name": "stderr",
     "output_type": "stream",
     "text": [
      "100%|██████████| 2/2 [00:00<00:00, 10.94it/s]\n"
     ]
    },
    {
     "name": "stdout",
     "output_type": "stream",
     "text": [
      "193 images loaded from C:/Users/racco/Documents/python_project/braintumordetection/TRAIN/\n"
     ]
    },
    {
     "name": "stderr",
     "output_type": "stream",
     "text": [
      "100%|██████████| 2/2 [00:00<00:00, 285.67it/s]\n"
     ]
    },
    {
     "name": "stdout",
     "output_type": "stream",
     "text": [
      "10 images loaded from C:/Users/racco/Documents/python_project/braintumordetection/TEST/\n"
     ]
    },
    {
     "name": "stderr",
     "output_type": "stream",
     "text": [
      "100%|██████████| 2/2 [00:00<00:00, 34.72it/s]"
     ]
    },
    {
     "name": "stdout",
     "output_type": "stream",
     "text": [
      "50 images loaded from C:/Users/racco/Documents/python_project/braintumordetection/VAL/\n"
     ]
    },
    {
     "name": "stderr",
     "output_type": "stream",
     "text": [
      "\n"
     ]
    }
   ],
   "source": [
    "train_dir = \"C:/Users/racco/Documents/python_project/braintumordetection/TRAIN/\"\n",
    "test_dir = \"C:/Users/racco/Documents/python_project/braintumordetection/TEST/\"\n",
    "val_dir = \"C:/Users/racco/Documents/python_project/braintumordetection/VAL/\"\n",
    "img_size = (224, 224)\n",
    "\n",
    "# use predefined function to load the image data into workspace\n",
    "X_train, y_train, labels_train = load_data(train_dir, img_size)\n",
    "X_test, y_test, _ = load_data(test_dir, img_size)\n",
    "X_val, y_val, _ = load_data(val_dir, img_size)\n",
    "\n",
    "# what is the purpose of \"load_data\" function?"
   ]
  },
  {
   "cell_type": "code",
   "execution_count": 32,
   "metadata": {},
   "outputs": [
    {
     "name": "stdout",
     "output_type": "stream",
     "text": [
      "[] []\n",
      "{0: [], 1: []}\n",
      "[74, 5, 19] [119, 5, 31]\n"
     ]
    },
    {
     "ename": "ValueError",
     "evalue": "Mime type rendering requires nbformat>=4.2.0 but it is not installed",
     "output_type": "error",
     "traceback": [
      "\u001b[1;31m---------------------------------------------------------------------------\u001b[0m",
      "\u001b[1;31mValueError\u001b[0m                                Traceback (most recent call last)",
      "\u001b[1;32m~\\AppData\\Local\\Temp\\ipykernel_24036\\247331750.py\u001b[0m in \u001b[0;36m<module>\u001b[1;34m\u001b[0m\n\u001b[0;32m     47\u001b[0m \u001b[1;33m\u001b[0m\u001b[0m\n\u001b[0;32m     48\u001b[0m \u001b[0mfig\u001b[0m \u001b[1;33m=\u001b[0m \u001b[0mgo\u001b[0m\u001b[1;33m.\u001b[0m\u001b[0mFigure\u001b[0m\u001b[1;33m(\u001b[0m\u001b[0mdata\u001b[0m \u001b[1;33m=\u001b[0m \u001b[0mdata\u001b[0m\u001b[1;33m,\u001b[0m \u001b[0mlayout\u001b[0m \u001b[1;33m=\u001b[0m \u001b[0mlayout\u001b[0m\u001b[1;33m)\u001b[0m\u001b[1;33m\u001b[0m\u001b[0m\n\u001b[1;32m---> 49\u001b[1;33m \u001b[0miplot\u001b[0m\u001b[1;33m(\u001b[0m\u001b[0mfig\u001b[0m\u001b[1;33m)\u001b[0m\u001b[1;33m\u001b[0m\u001b[0m\n\u001b[0m",
      "\u001b[1;32mc:\\Users\\racco\\Documents\\python_project\\braintumordetection\\env\\lib\\site-packages\\plotly\\offline\\offline.py\u001b[0m in \u001b[0;36miplot\u001b[1;34m(figure_or_data, show_link, link_text, validate, image, filename, image_width, image_height, config, auto_play, animation_opts)\u001b[0m\n\u001b[0;32m    391\u001b[0m         \u001b[0mauto_play\u001b[0m\u001b[1;33m=\u001b[0m\u001b[0mauto_play\u001b[0m\u001b[1;33m,\u001b[0m\u001b[1;33m\u001b[0m\u001b[0m\n\u001b[0;32m    392\u001b[0m         \u001b[0mpost_script\u001b[0m\u001b[1;33m=\u001b[0m\u001b[0mpost_script\u001b[0m\u001b[1;33m,\u001b[0m\u001b[1;33m\u001b[0m\u001b[0m\n\u001b[1;32m--> 393\u001b[1;33m         \u001b[0manimation_opts\u001b[0m\u001b[1;33m=\u001b[0m\u001b[0manimation_opts\u001b[0m\u001b[1;33m,\u001b[0m\u001b[1;33m\u001b[0m\u001b[0m\n\u001b[0m\u001b[0;32m    394\u001b[0m     )\n\u001b[0;32m    395\u001b[0m \u001b[1;33m\u001b[0m\u001b[0m\n",
      "\u001b[1;32mc:\\Users\\racco\\Documents\\python_project\\braintumordetection\\env\\lib\\site-packages\\plotly\\io\\_renderers.py\u001b[0m in \u001b[0;36mshow\u001b[1;34m(fig, renderer, validate, **kwargs)\u001b[0m\n\u001b[0;32m    393\u001b[0m         \u001b[1;32mif\u001b[0m \u001b[1;32mnot\u001b[0m \u001b[0mnbformat\u001b[0m \u001b[1;32mor\u001b[0m \u001b[0mVersion\u001b[0m\u001b[1;33m(\u001b[0m\u001b[0mnbformat\u001b[0m\u001b[1;33m.\u001b[0m\u001b[0m__version__\u001b[0m\u001b[1;33m)\u001b[0m \u001b[1;33m<\u001b[0m \u001b[0mVersion\u001b[0m\u001b[1;33m(\u001b[0m\u001b[1;34m\"4.2.0\"\u001b[0m\u001b[1;33m)\u001b[0m\u001b[1;33m:\u001b[0m\u001b[1;33m\u001b[0m\u001b[0m\n\u001b[0;32m    394\u001b[0m             raise ValueError(\n\u001b[1;32m--> 395\u001b[1;33m                 \u001b[1;34m\"Mime type rendering requires nbformat>=4.2.0 but it is not installed\"\u001b[0m\u001b[1;33m\u001b[0m\u001b[0m\n\u001b[0m\u001b[0;32m    396\u001b[0m             )\n\u001b[0;32m    397\u001b[0m \u001b[1;33m\u001b[0m\u001b[0m\n",
      "\u001b[1;31mValueError\u001b[0m: Mime type rendering requires nbformat>=4.2.0 but it is not installed"
     ]
    }
   ],
   "source": [
    "import plotly.graph_objs as go\n",
    "\n",
    "y = dict()\n",
    "y[0] = []\n",
    "y[1] = []\n",
    "\n",
    "print (y[0], y[1])\n",
    "print(y)\n",
    "for set_name in (y_train, y_test, y_val):\n",
    "    y[0].append(np.sum(set_name == 0))\n",
    "    y[1].append(np.sum(set_name == 1))\n",
    "\n",
    "print (y[0], y[1])\n",
    "\n",
    "# what is the purpose of \"y\" variable?\n",
    "    # y[0] will store counts of class 0 (e.g., \"no tumor\"),\n",
    "    # and y[1] will store counts of class 1 (e.g., \"tumor\").\n",
    "\n",
    "    # The for loop iterates over the three sets of labels \n",
    "    # (y_train, y_test, y_val) and counts the occurrences of each class in each set.\n",
    "    \n",
    "    # The results are stored in the y dictionary, where y[0] contains counts for class 0 \n",
    "    # and y[1] contains counts for class 1.\n",
    "# what is the purpose of the for loop?\n",
    "\n",
    "trace0 = go.Bar(\n",
    "    x = [\"Train\", \"Test\", \"Validation\"],\n",
    "    y = y[0],\n",
    "    name = \"No Tumor\",\n",
    "    marker = dict(color = 'rgb(55, 83, 109)')\n",
    ")\n",
    "\n",
    "trace1 = go.Bar(\n",
    "    x = [\"Train\", \"Test\", \"Validation\"],\n",
    "    y = y[1],\n",
    "    name = \"Tumor\",\n",
    "    marker = dict(color = 'rgb(26, 118, 255)')\n",
    ")\n",
    "\n",
    "data = [trace0,  trace1]\n",
    "layout = go.Layout(\n",
    "    title = \"Distribution of Classes in Train, Test and Validation Sets\",\n",
    "    barmode = \"group\",\n",
    "    xaxis = dict(title = \"Sets\"),\n",
    "    yaxis = dict(title = \"Number of Images\")\n",
    ")\n",
    "\n",
    "fig = go.Figure(data = data, layout = layout)\n",
    "iplot(fig)"
   ]
  },
  {
   "cell_type": "markdown",
   "metadata": {},
   "source": []
  }
 ],
 "metadata": {
  "kernelspec": {
   "display_name": "env",
   "language": "python",
   "name": "python3"
  },
  "language_info": {
   "codemirror_mode": {
    "name": "ipython",
    "version": 3
   },
   "file_extension": ".py",
   "mimetype": "text/x-python",
   "name": "python",
   "nbconvert_exporter": "python",
   "pygments_lexer": "ipython3",
   "version": "3.7.0"
  }
 },
 "nbformat": 4,
 "nbformat_minor": 2
}
