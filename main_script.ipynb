{
 "cells": [
  {
   "cell_type": "code",
   "execution_count": 6,
   "metadata": {},
   "outputs": [
    {
     "data": {
      "text/html": [
       "        <script type=\"text/javascript\">\n",
       "        window.PlotlyConfig = {MathJaxConfig: 'local'};\n",
       "        if (window.MathJax && window.MathJax.Hub && window.MathJax.Hub.Config) {window.MathJax.Hub.Config({SVG: {font: \"STIX-Web\"}});}\n",
       "        if (typeof require !== 'undefined') {\n",
       "        require.undef(\"plotly\");\n",
       "        requirejs.config({\n",
       "            paths: {\n",
       "                'plotly': ['https://cdn.plot.ly/plotly-2.27.0.min']\n",
       "            }\n",
       "        });\n",
       "        require(['plotly'], function(Plotly) {\n",
       "            window._Plotly = Plotly;\n",
       "        });\n",
       "        }\n",
       "        </script>\n",
       "        "
      ]
     },
     "metadata": {},
     "output_type": "display_data"
    }
   ],
   "source": [
    "import numpy as np\n",
    "from tqdm import tqdm\n",
    "# what is tqdm?\n",
    "import cv2\n",
    "import os \n",
    "import shutil\n",
    "import imutils\n",
    "import matplotlib.pyplot as plt\n",
    "from sklearn.preprocessing import LabelBinarizer\n",
    "from sklearn.model_selection import train_test_split\n",
    "from sklearn.metrics import accuracy_score, confusion_matrix\n",
    "\n",
    "import plotly.graph_objs as ob\n",
    "from plotly.offline import init_notebook_mode, iplot\n",
    "from plotly import tools\n",
    "\n",
    "from tensorflow import keras\n",
    "from tensorflow.keras.preprocessing.image import ImageDataGenerator\n",
    "from tensorflow.keras.applications.vgg16 import VGG16, preprocess_input\n",
    "from tensorflow.keras import layers\n",
    "from tensorflow.keras.models import Model, Sequential\n",
    "from tensorflow.keras.optimizers import Adam, RMSprop\n",
    "from tensorflow.keras.callbacks import EarlyStopping\n",
    "\n",
    "init_notebook_mode(connected=True)\n",
    "RANDOM_SEED = 123"
   ]
  },
  {
   "cell_type": "code",
   "execution_count": null,
   "metadata": {},
   "outputs": [],
   "source": [
    "# !where python"
   ]
  },
  {
   "cell_type": "code",
   "execution_count": null,
   "metadata": {},
   "outputs": [],
   "source": [
    "# img_path = \"C:/Users/racco/Documents/python_project/\" \\\n",
    "# \"braintumordetection/archive1/brain_tumor_dataset/\"\n",
    "\n",
    "# for kelas in os.listdir(img_path):\n",
    "#     if not kelas.startswith(\".\"):\n",
    "#         img_num = len(os.listdir(img_path + kelas))\n",
    "#         print(img_num)\n",
    "#         print(os.listdir(img_path + kelas))\n",
    "#         # img_num -> number of images are there \n",
    "#         for (n, file_name) in enumerate(os.listdir(img_path + kelas)):\n",
    "#             img = img_path + kelas + \"/\" + file_name\n",
    "#             if n < 5:\n",
    "#                 shutil.copy(img, \"TEST/\" + kelas.upper() + \"/\" + file_name)\n",
    "#             elif n < 0.8 * img_num:\n",
    "#                 shutil.copy(img, \"TRAIN/\" + kelas.upper() + \"/\" + file_name)\n",
    "#             else:\n",
    "#                 shutil.copy(img, \"VAL/\" + kelas.upper() + \"/\" + file_name)"
   ]
  },
  {
   "cell_type": "code",
   "execution_count": 3,
   "metadata": {},
   "outputs": [],
   "source": [
    "def load_data(dir_path, img_size=(100,100)):\n",
    "    # purpose-> Load resized images as np.arrays to workspace\n",
    "    X = []\n",
    "    y = []\n",
    "    i = 0\n",
    "    labels = dict()\n",
    "    for path in tqdm(sorted(os.listdir(dir_path))):\n",
    "        if not path.startswith(\".\"):\n",
    "            labels[i] = path\n",
    "            for file in os.listdir(dir_path + path):\n",
    "                if not file.startswith(\".\"):\n",
    "                    img = cv2.imread(dir_path + path + \"/\" + file)\n",
    "                    # img = cv2.resize(img, img_size)\n",
    "                    X.append(img)\n",
    "                    y.append(i)\n",
    "            i += 1\n",
    "    X = np.array(X)\n",
    "    y = np.array(y)\n",
    "    print(f\"{len(X)} images loaded from {dir_path}\")\n",
    "    return X, y, labels"
   ]
  },
  {
   "cell_type": "code",
   "execution_count": null,
   "metadata": {},
   "outputs": [],
   "source": [
    "def plot_confusion_matrix(cm, classes, normalize=False, title=\"Confusion Matrix\", cmap=plt.cm.Blues):\n",
    "    \"\"\"\n",
    "    This function prints and plots the confusion matrix.\n",
    "    Normalization can be applied by setting `normalize=True`.\n",
    "    \"\"\"\n",
    "    plt.figure(figsize=(6,6))\n",
    "    plt.imshow(cm, interpolation=\"nearest\", cmap=cmap)\n",
    "    plt.title(title)\n",
    "    plt.colorbar()\n",
    "    tick_marks = np.arange(len(classes))\n",
    "    plt.xticks(tick_marks, classes, rotation=90)\n",
    "    plt.yticks(tick_marks, classes)\n",
    "    if normalize:\n",
    "        cm = cm.astype(\"float\") / cm.sum(axis=1)[:, np.newaxis]\n",
    "        print(\"Normalized confusion matrix\") #additional line for information\n",
    "    threshold = cm.max() / 2.0\n",
    "    cm = np.round(cm, 2)\n",
    "    for i, j in intertools.product(range(cm.shape[0]), range(cm.shape[1])):\n",
    "        plt .text(j, i, cm[i, j],\n",
    "                 horizontalalignment=\"center\",\n",
    "                 color=\"white\" if cm[i, j] > threshold else \"black\")\n",
    "    plt.tight_layout()\n",
    "    plt.ylabel(\"True label\")\n",
    "    plt.xlabel(\"Predicted label\")\n",
    "    plt.show()"
   ]
  },
  {
   "cell_type": "markdown",
   "metadata": {},
   "source": [
    "<div style=\"font-size: 13px;\">\n",
    "\n",
    "**Background about the Confusion Matrix**\n",
    "<p> the function, plot_confusion_matrix, is used to plot \n",
    "the confusion matrix for a classification model.\n",
    "It is used to evaluate the performance of a classification model by\n",
    "showing the true positives, false positives, true negatics and false negatives for each class.\n",
    "</p>\n",
    "\n",
    "1. **Function Definition**\n",
    "    ```python\n",
    "    def plot_confusion_matrix(cm, classes,\n",
    "                              normalize=False,\n",
    "                              title='Confusion matrix',\n",
    "                              cmap=plt.cm.Blues):\n",
    "    ```\n",
    "\n",
    "    - **`cm`** → This is the confusion matrix itself, a 2D numpy array representing the number of correct and incorrect predictions made by the model for each class. (Define class, in this setting).\n",
    "    - **`classes`** → A list of class names that the confusion matrix represents (like e.g. `[\"Class 1\", \"Class 2\"]`).\n",
    "    - **`normalize`** → A boolean flag that indicates whether to normalize the confusion matrix (that is, divide the values by the total sum of each row, so that the values are proportions rather than counts = basic linear algebra).\n",
    "    - **`title`** -> a string represnting the title of the plot\n",
    "    - **`cmap`** -> color map for the confusion matric (the default is as written in the code) = it is color gradient\n",
    "    - **``**\n",
    "    - **``**\n",
    "\n",
    "3. **Plotting the Confusion Matrix**\n",
    "    - Sub-item 1\n",
    "    - Sub-item 2\n",
    "\n",
    "4. **Main item**\n",
    "    - Sub-item 1\n",
    "    - Sub-item 2\n",
    "\n",
    "5. **Main item**\n",
    "    - Sub-item 1\n",
    "    - Sub-item 2\n",
    "\n",
    "\n",
    "\n",
    "</div>\n",
    "\n",
    "\n"
   ]
  },
  {
   "cell_type": "code",
   "execution_count": 11,
   "metadata": {},
   "outputs": [
    {
     "name": "stderr",
     "output_type": "stream",
     "text": [
      "100%|██████████| 2/2 [00:00<00:00, 10.53it/s]\n"
     ]
    },
    {
     "name": "stdout",
     "output_type": "stream",
     "text": [
      "193 images loaded from C:/Users/racco/Documents/python_project/braintumordetection/TRAIN/\n"
     ]
    },
    {
     "name": "stderr",
     "output_type": "stream",
     "text": [
      "100%|██████████| 2/2 [00:00<00:00, 266.40it/s]\n"
     ]
    },
    {
     "name": "stdout",
     "output_type": "stream",
     "text": [
      "10 images loaded from C:/Users/racco/Documents/python_project/braintumordetection/TEST/\n"
     ]
    },
    {
     "name": "stderr",
     "output_type": "stream",
     "text": [
      "100%|██████████| 2/2 [00:00<00:00, 34.12it/s]"
     ]
    },
    {
     "name": "stdout",
     "output_type": "stream",
     "text": [
      "50 images loaded from C:/Users/racco/Documents/python_project/braintumordetection/VAL/\n"
     ]
    },
    {
     "name": "stderr",
     "output_type": "stream",
     "text": [
      "\n"
     ]
    }
   ],
   "source": [
    "train_dir = \"C:/Users/racco/Documents/python_project/braintumordetection/TRAIN/\"\n",
    "test_dir = \"C:/Users/racco/Documents/python_project/braintumordetection/TEST/\"\n",
    "val_dir = \"C:/Users/racco/Documents/python_project/braintumordetection/VAL/\"\n",
    "img_size = (224, 224)\n",
    "\n",
    "# use predefined function to load the image data into workspace\n",
    "X_train, y_train, labels_train = load_data(train_dir, img_size)\n",
    "X_test, y_test, _ = load_data(test_dir, img_size)\n",
    "X_val, y_val, _ = load_data(val_dir, img_size)\n",
    "\n",
    "# what is the purpose of \"load_data\" function?"
   ]
  },
  {
   "cell_type": "code",
   "execution_count": null,
   "metadata": {},
   "outputs": [],
   "source": []
  }
 ],
 "metadata": {
  "kernelspec": {
   "display_name": "env",
   "language": "python",
   "name": "python3"
  },
  "language_info": {
   "codemirror_mode": {
    "name": "ipython",
    "version": 3
   },
   "file_extension": ".py",
   "mimetype": "text/x-python",
   "name": "python",
   "nbconvert_exporter": "python",
   "pygments_lexer": "ipython3",
   "version": "3.7.0"
  }
 },
 "nbformat": 4,
 "nbformat_minor": 2
}
